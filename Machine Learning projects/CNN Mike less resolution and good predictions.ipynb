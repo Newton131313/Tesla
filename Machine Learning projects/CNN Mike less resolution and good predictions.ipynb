{
 "cells": [
  {
   "cell_type": "code",
   "execution_count": 1,
   "metadata": {},
   "outputs": [],
   "source": [
    "import pandas as pd\n",
    "import numpy as np\n",
    "import tensorflow as tf\n",
    "from keras.preprocessing.image import ImageDataGenerator"
   ]
  },
  {
   "cell_type": "markdown",
   "metadata": {},
   "source": [
    "Data Augmentation : Preprocessing Traning set\n",
    "\n",
    "tf.keras.preprocessing.image.ImageDataGenerator(\n",
    "    featurewise_center=False,\n",
    "    samplewise_center=False,\n",
    "    featurewise_std_normalization=False,\n",
    "    samplewise_std_normalization=False,\n",
    "    zca_whitening=False,\n",
    "    zca_epsilon=1e-06,\n",
    "    rotation_range=0,\n",
    "    width_shift_range=0.0,\n",
    "    height_shift_range=0.0,\n",
    "    brightness_range=None,\n",
    "    shear_range=0.0,\n",
    "    zoom_range=0.0,\n",
    "    channel_shift_range=0.0,\n",
    "    fill_mode=\"nearest\",\n",
    "    cval=0.0,\n",
    "    horizontal_flip=False,\n",
    "    vertical_flip=False,\n",
    "    rescale=None,\n",
    "    preprocessing_function=None,\n",
    "    data_format=None,\n",
    "    validation_split=0.0,\n",
    "    dtype=None,\n",
    "    \n",
    ")"
   ]
  },
  {
   "cell_type": "code",
   "execution_count": 2,
   "metadata": {},
   "outputs": [
    {
     "name": "stdout",
     "output_type": "stream",
     "text": [
      "Found 8000 images belonging to 2 classes.\n"
     ]
    }
   ],
   "source": [
    "train_datagen = ImageDataGenerator(\n",
    "        rescale=1./255,\n",
    "        shear_range=0.2,\n",
    "        zoom_range=0.2,\n",
    "        #zca_whitening=True,\n",
    "        zca_epsilon=1e-07,\n",
    "        rotation_range=0.3,\n",
    "        width_shift_range=0.3,\n",
    "        #height_shift_range=0.3,\n",
    "        #channel_shift_range=0.0,\n",
    "        horizontal_flip=True)\n",
    "train_generator= train_datagen.flow_from_directory(\n",
    "        r'D:\\Udemy\\Section+40+-+Convolutional+Neural+Networks+(CNN)\\Section 40 - Convolutional Neural Networks (CNN)\\dataset\\training_set',\n",
    "        target_size=(32, 32),\n",
    "        batch_size=32,\n",
    "        class_mode='binary')"
   ]
  },
  {
   "cell_type": "raw",
   "metadata": {},
   "source": [
    "Preprocessing Test Set"
   ]
  },
  {
   "cell_type": "code",
   "execution_count": 3,
   "metadata": {},
   "outputs": [
    {
     "name": "stdout",
     "output_type": "stream",
     "text": [
      "Found 2000 images belonging to 2 classes.\n"
     ]
    }
   ],
   "source": [
    "test_datagen = ImageDataGenerator(rescale=1./255)\n",
    "validation_generator = test_datagen.flow_from_directory(\n",
    "        r'D:\\Udemy\\Section+40+-+Convolutional+Neural+Networks+(CNN)\\Section 40 - Convolutional Neural Networks (CNN)\\dataset\\test_set',\n",
    "        target_size=(32, 32),\n",
    "        batch_size=32,\n",
    "        class_mode='binary')"
   ]
  },
  {
   "cell_type": "markdown",
   "metadata": {},
   "source": [
    "Building CNN"
   ]
  },
  {
   "cell_type": "code",
   "execution_count": 4,
   "metadata": {},
   "outputs": [],
   "source": [
    "#Intialiasing the CNN\n",
    "cnn = tf.keras.models.Sequential()"
   ]
  },
  {
   "cell_type": "code",
   "execution_count": 5,
   "metadata": {},
   "outputs": [],
   "source": [
    "#Convolution Layer\n",
    "cnn.add(tf.keras.layers.Conv2D(filters=32, kernel_size=3, activation='relu', input_shape=[32,32,3] ))"
   ]
  },
  {
   "cell_type": "code",
   "execution_count": 6,
   "metadata": {},
   "outputs": [],
   "source": [
    "#Pooling layer\n",
    "cnn.add(tf.keras.layers.MaxPool2D(pool_size=2, strides=1))"
   ]
  },
  {
   "cell_type": "code",
   "execution_count": 7,
   "metadata": {},
   "outputs": [],
   "source": [
    "# Second Conv. layer\n",
    "cnn.add(tf.keras.layers.Conv2D(filters=32, kernel_size=3, activation='relu'))\n",
    "cnn.add(tf.keras.layers.MaxPool2D(pool_size=2, strides=1))"
   ]
  },
  {
   "cell_type": "code",
   "execution_count": 8,
   "metadata": {},
   "outputs": [],
   "source": [
    "# Flattening\n",
    "cnn.add(tf.keras.layers.Flatten())"
   ]
  },
  {
   "cell_type": "code",
   "execution_count": 9,
   "metadata": {},
   "outputs": [],
   "source": [
    "# Full Connection \n",
    "cnn.add(tf.keras.layers.Dense(units=128, activation='relu'))\n",
    "#cnn.add(tf.keras.layers.Dense(units=128, activation='relu'))\n",
    "cnn.add(tf.keras.layers.Dense(units=1, activation='sigmoid'))"
   ]
  },
  {
   "cell_type": "code",
   "execution_count": 10,
   "metadata": {},
   "outputs": [],
   "source": [
    "#Training the CNN\n",
    "cnn.compile(optimizer='adam', loss='binary_crossentropy', metrics=['accuracy'])"
   ]
  },
  {
   "cell_type": "code",
   "execution_count": 11,
   "metadata": {},
   "outputs": [],
   "source": [
    "#!pip install pillow"
   ]
  },
  {
   "cell_type": "code",
   "execution_count": 12,
   "metadata": {
    "scrolled": true
   },
   "outputs": [
    {
     "name": "stdout",
     "output_type": "stream",
     "text": [
      "Epoch 1/25\n",
      "250/250 [==============================] - 180s 719ms/step - loss: 0.6865 - accuracy: 0.5534 - val_loss: 0.6727 - val_accuracy: 0.5770\n",
      "Epoch 2/25\n",
      "250/250 [==============================] - 67s 266ms/step - loss: 0.6717 - accuracy: 0.5853 - val_loss: 0.6665 - val_accuracy: 0.5905\n",
      "Epoch 3/25\n",
      "250/250 [==============================] - 68s 273ms/step - loss: 0.6564 - accuracy: 0.6012 - val_loss: 0.6363 - val_accuracy: 0.6300\n",
      "Epoch 4/25\n",
      "250/250 [==============================] - 77s 308ms/step - loss: 0.6383 - accuracy: 0.6341 - val_loss: 0.7326 - val_accuracy: 0.5915\n",
      "Epoch 5/25\n",
      "250/250 [==============================] - 72s 286ms/step - loss: 0.6237 - accuracy: 0.6451 - val_loss: 0.6042 - val_accuracy: 0.6720\n",
      "Epoch 6/25\n",
      "250/250 [==============================] - 68s 274ms/step - loss: 0.6170 - accuracy: 0.6540 - val_loss: 0.5953 - val_accuracy: 0.6835\n",
      "Epoch 7/25\n",
      "250/250 [==============================] - 82s 329ms/step - loss: 0.6023 - accuracy: 0.6646 - val_loss: 0.6064 - val_accuracy: 0.6760\n",
      "Epoch 8/25\n",
      "250/250 [==============================] - 77s 309ms/step - loss: 0.5998 - accuracy: 0.6775 - val_loss: 0.5667 - val_accuracy: 0.7085\n",
      "Epoch 9/25\n",
      "250/250 [==============================] - 75s 302ms/step - loss: 0.5819 - accuracy: 0.6946 - val_loss: 0.5646 - val_accuracy: 0.7120\n",
      "Epoch 10/25\n",
      "250/250 [==============================] - 74s 297ms/step - loss: 0.5720 - accuracy: 0.6998 - val_loss: 0.5348 - val_accuracy: 0.7285\n",
      "Epoch 11/25\n",
      "250/250 [==============================] - 70s 281ms/step - loss: 0.5595 - accuracy: 0.7100 - val_loss: 0.5412 - val_accuracy: 0.7275\n",
      "Epoch 12/25\n",
      "250/250 [==============================] - 68s 272ms/step - loss: 0.5548 - accuracy: 0.7154 - val_loss: 0.5619 - val_accuracy: 0.7125\n",
      "Epoch 13/25\n",
      "250/250 [==============================] - 66s 264ms/step - loss: 0.5434 - accuracy: 0.7249 - val_loss: 0.5635 - val_accuracy: 0.7060\n",
      "Epoch 14/25\n",
      "250/250 [==============================] - 68s 271ms/step - loss: 0.5353 - accuracy: 0.7295 - val_loss: 0.5410 - val_accuracy: 0.7470\n",
      "Epoch 15/25\n",
      "250/250 [==============================] - 67s 266ms/step - loss: 0.5311 - accuracy: 0.7341 - val_loss: 0.6541 - val_accuracy: 0.6725\n",
      "Epoch 16/25\n",
      "250/250 [==============================] - 66s 266ms/step - loss: 0.5241 - accuracy: 0.7401 - val_loss: 0.6508 - val_accuracy: 0.6680\n",
      "Epoch 17/25\n",
      "250/250 [==============================] - 65s 261ms/step - loss: 0.5159 - accuracy: 0.7405 - val_loss: 0.5166 - val_accuracy: 0.7435\n",
      "Epoch 18/25\n",
      "250/250 [==============================] - 65s 258ms/step - loss: 0.5198 - accuracy: 0.7394 - val_loss: 0.5071 - val_accuracy: 0.7530\n",
      "Epoch 19/25\n",
      "250/250 [==============================] - 68s 272ms/step - loss: 0.5103 - accuracy: 0.7465 - val_loss: 0.5207 - val_accuracy: 0.7480\n",
      "Epoch 20/25\n",
      "250/250 [==============================] - 64s 257ms/step - loss: 0.5022 - accuracy: 0.7520 - val_loss: 0.5045 - val_accuracy: 0.7415\n",
      "Epoch 21/25\n",
      "250/250 [==============================] - 68s 273ms/step - loss: 0.5050 - accuracy: 0.7556 - val_loss: 0.5338 - val_accuracy: 0.7250\n",
      "Epoch 22/25\n",
      "250/250 [==============================] - 75s 298ms/step - loss: 0.4909 - accuracy: 0.7636 - val_loss: 0.5080 - val_accuracy: 0.7475\n",
      "Epoch 23/25\n",
      "250/250 [==============================] - 69s 278ms/step - loss: 0.4947 - accuracy: 0.7555 - val_loss: 0.5132 - val_accuracy: 0.7400\n",
      "Epoch 24/25\n",
      "250/250 [==============================] - 65s 258ms/step - loss: 0.4871 - accuracy: 0.7610 - val_loss: 0.5589 - val_accuracy: 0.7440\n",
      "Epoch 25/25\n",
      "250/250 [==============================] - 74s 297ms/step - loss: 0.4732 - accuracy: 0.7730 - val_loss: 0.4931 - val_accuracy: 0.7550\n"
     ]
    },
    {
     "data": {
      "text/plain": [
       "<tensorflow.python.keras.callbacks.History at 0x1a1e9626280>"
      ]
     },
     "execution_count": 12,
     "metadata": {},
     "output_type": "execute_result"
    }
   ],
   "source": [
    "#cnn.fit(X= train_generator, validation_data=validation_generator,epochs=25)\n",
    "cnn.fit(x= train_generator,validation_data=validation_generator, epochs=25)"
   ]
  },
  {
   "cell_type": "code",
   "execution_count": 20,
   "metadata": {},
   "outputs": [],
   "source": [
    "# Single prediction test\n",
    "from keras.preprocessing import image\n",
    "test_image = image.load_img(r\"D:\\Udemy\\Section+40+-+Convolutional+Neural+Networks+(CNN)\\Section 40 - Convolutional Neural Networks (CNN)\\dataset\\single_prediction\\cat_or_dog_1.JPG \",target_size=(32,32))\n",
    "test_image = image.img_to_array(test_image)\n",
    "test_image = np.expand_dims(test_image, axis = 0)\n",
    "result = cnn.predict(test_image)\n",
    "train_generator.class_indices\n",
    "if result[0][0] > 0.5:\n",
    "  prediction = 'dog'\n",
    "else:\n",
    "  prediction = 'cat'"
   ]
  },
  {
   "cell_type": "code",
   "execution_count": 21,
   "metadata": {},
   "outputs": [
    {
     "name": "stdout",
     "output_type": "stream",
     "text": [
      "dog\n"
     ]
    }
   ],
   "source": [
    "print (prediction)"
   ]
  },
  {
   "cell_type": "code",
   "execution_count": null,
   "metadata": {},
   "outputs": [],
   "source": []
  }
 ],
 "metadata": {
  "kernelspec": {
   "display_name": "Python 3",
   "language": "python",
   "name": "python3"
  },
  "language_info": {
   "codemirror_mode": {
    "name": "ipython",
    "version": 3
   },
   "file_extension": ".py",
   "mimetype": "text/x-python",
   "name": "python",
   "nbconvert_exporter": "python",
   "pygments_lexer": "ipython3",
   "version": "3.8.5"
  }
 },
 "nbformat": 4,
 "nbformat_minor": 4
}
