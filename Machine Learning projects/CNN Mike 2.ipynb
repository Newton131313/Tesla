{
 "cells": [
  {
   "cell_type": "code",
   "execution_count": 1,
   "metadata": {},
   "outputs": [],
   "source": [
    "import pandas as pd\n",
    "import numpy as np\n",
    "import tensorflow as tf\n",
    "from keras.preprocessing.image import ImageDataGenerator"
   ]
  },
  {
   "cell_type": "markdown",
   "metadata": {},
   "source": [
    "Data Augmentation : Preprocessing Traning set\n",
    "\n",
    "tf.keras.preprocessing.image.ImageDataGenerator(\n",
    "    featurewise_center=False,\n",
    "    samplewise_center=False,\n",
    "    featurewise_std_normalization=False,\n",
    "    samplewise_std_normalization=False,\n",
    "    zca_whitening=False,\n",
    "    zca_epsilon=1e-06,\n",
    "    rotation_range=0,\n",
    "    width_shift_range=0.0,\n",
    "    height_shift_range=0.0,\n",
    "    brightness_range=None,\n",
    "    shear_range=0.0,\n",
    "    zoom_range=0.0,\n",
    "    channel_shift_range=0.0,\n",
    "    fill_mode=\"nearest\",\n",
    "    cval=0.0,\n",
    "    horizontal_flip=False,\n",
    "    vertical_flip=False,\n",
    "    rescale=None,\n",
    "    preprocessing_function=None,\n",
    "    data_format=None,\n",
    "    validation_split=0.0,\n",
    "    dtype=None,\n",
    "    \n",
    ")"
   ]
  },
  {
   "cell_type": "code",
   "execution_count": 2,
   "metadata": {},
   "outputs": [
    {
     "name": "stderr",
     "output_type": "stream",
     "text": [
      "C:\\Users\\Tesla\\Anaconda3\\envs\\deeplearning\\lib\\site-packages\\keras_preprocessing\\image\\image_data_generator.py:336: UserWarning: This ImageDataGenerator specifies `zca_whitening`, which overrides setting of `featurewise_center`.\n",
      "  warnings.warn('This ImageDataGenerator specifies '\n"
     ]
    },
    {
     "name": "stdout",
     "output_type": "stream",
     "text": [
      "Found 8000 images belonging to 2 classes.\n"
     ]
    }
   ],
   "source": [
    "train_datagen = ImageDataGenerator(\n",
    "        rescale=1./255,\n",
    "        shear_range=0.2,\n",
    "        zoom_range=0.2,\n",
    "        zca_whitening=True,\n",
    "        zca_epsilon=1e-09,\n",
    "        rotation_range=0.3,\n",
    "        width_shift_range=0.3,\n",
    "        height_shift_range=0.3,\n",
    "        channel_shift_range=0.0,\n",
    "        horizontal_flip=True)\n",
    "train_generator= train_datagen.flow_from_directory(\n",
    "        r'D:\\Udemy\\Section+40+-+Convolutional+Neural+Networks+(CNN)\\Section 40 - Convolutional Neural Networks (CNN)\\dataset\\training_set',\n",
    "        target_size=(64, 64),\n",
    "        batch_size=32,\n",
    "        class_mode='binary')"
   ]
  },
  {
   "cell_type": "raw",
   "metadata": {},
   "source": [
    "Preprocessing Test Set"
   ]
  },
  {
   "cell_type": "code",
   "execution_count": 3,
   "metadata": {},
   "outputs": [
    {
     "name": "stdout",
     "output_type": "stream",
     "text": [
      "Found 2000 images belonging to 2 classes.\n"
     ]
    }
   ],
   "source": [
    "test_datagen = ImageDataGenerator(rescale=1./255)\n",
    "validation_generator = test_datagen.flow_from_directory(\n",
    "        r'D:\\Udemy\\Section+40+-+Convolutional+Neural+Networks+(CNN)\\Section 40 - Convolutional Neural Networks (CNN)\\dataset\\test_set',\n",
    "        target_size=(64, 64),\n",
    "        batch_size=32,\n",
    "        class_mode='binary')"
   ]
  },
  {
   "cell_type": "markdown",
   "metadata": {},
   "source": [
    "Building CNN"
   ]
  },
  {
   "cell_type": "code",
   "execution_count": 4,
   "metadata": {},
   "outputs": [],
   "source": [
    "#Intialiasing the CNN\n",
    "cnn = tf.keras.models.Sequential()"
   ]
  },
  {
   "cell_type": "code",
   "execution_count": 5,
   "metadata": {},
   "outputs": [],
   "source": [
    "#Convolution Layer\n",
    "cnn.add(tf.keras.layers.Conv2D(filters=32, kernel_size=3, activation='relu', input_shape=[64,64,3] ))"
   ]
  },
  {
   "cell_type": "code",
   "execution_count": 6,
   "metadata": {},
   "outputs": [],
   "source": [
    "#Pooling layer\n",
    "cnn.add(tf.keras.layers.MaxPool2D(pool_size=2, strides=2))"
   ]
  },
  {
   "cell_type": "code",
   "execution_count": 7,
   "metadata": {},
   "outputs": [],
   "source": [
    "# Second Conv. layer\n",
    "cnn.add(tf.keras.layers.Conv2D(filters=32, kernel_size=3, activation='relu'))\n",
    "cnn.add(tf.keras.layers.MaxPool2D(pool_size=2, strides=2))"
   ]
  },
  {
   "cell_type": "code",
   "execution_count": 8,
   "metadata": {},
   "outputs": [],
   "source": [
    "# Flattening\n",
    "cnn.add(tf.keras.layers.Flatten())"
   ]
  },
  {
   "cell_type": "code",
   "execution_count": 9,
   "metadata": {},
   "outputs": [],
   "source": [
    "# Full Connection \n",
    "cnn.add(tf.keras.layers.Dense(units=128, activation='relu'))\n",
    "cnn.add(tf.keras.layers.Dense(units=128, activation='relu'))\n",
    "cnn.add(tf.keras.layers.Dense(units=1, activation='sigmoid'))"
   ]
  },
  {
   "cell_type": "code",
   "execution_count": 10,
   "metadata": {},
   "outputs": [],
   "source": [
    "#Training the CNN\n",
    "cnn.compile(optimizer='adam', loss='binary_crossentropy', metrics=['accuracy'])"
   ]
  },
  {
   "cell_type": "code",
   "execution_count": 11,
   "metadata": {},
   "outputs": [
    {
     "name": "stdout",
     "output_type": "stream",
     "text": [
      "Requirement already satisfied: pillow in c:\\users\\tesla\\anaconda3\\envs\\deeplearning\\lib\\site-packages (8.0.1)\n"
     ]
    }
   ],
   "source": [
    "!pip install pillow"
   ]
  },
  {
   "cell_type": "code",
   "execution_count": 12,
   "metadata": {
    "scrolled": true
   },
   "outputs": [
    {
     "name": "stderr",
     "output_type": "stream",
     "text": [
      "C:\\Users\\Tesla\\Anaconda3\\envs\\deeplearning\\lib\\site-packages\\keras_preprocessing\\image\\image_data_generator.py:716: UserWarning: This ImageDataGenerator specifies `featurewise_center`, but it hasn't been fit on any training data. Fit it first by calling `.fit(numpy_data)`.\n",
      "  warnings.warn('This ImageDataGenerator specifies '\n",
      "C:\\Users\\Tesla\\Anaconda3\\envs\\deeplearning\\lib\\site-packages\\keras_preprocessing\\image\\image_data_generator.py:735: UserWarning: This ImageDataGenerator specifies `zca_whitening`, but it hasn't been fit on any training data. Fit it first by calling `.fit(numpy_data)`.\n",
      "  warnings.warn('This ImageDataGenerator specifies '\n"
     ]
    },
    {
     "name": "stdout",
     "output_type": "stream",
     "text": [
      "Epoch 1/25\n",
      "250/250 [==============================] - 143s 570ms/step - loss: 0.6913 - accuracy: 0.5234 - val_loss: 0.6835 - val_accuracy: 0.5440\n",
      "Epoch 2/25\n",
      "250/250 [==============================] - 57s 227ms/step - loss: 0.6691 - accuracy: 0.5939 - val_loss: 0.7015 - val_accuracy: 0.5545\n",
      "Epoch 3/25\n",
      "250/250 [==============================] - 58s 233ms/step - loss: 0.6471 - accuracy: 0.6217 - val_loss: 0.6125 - val_accuracy: 0.6655\n",
      "Epoch 4/25\n",
      "250/250 [==============================] - 63s 250ms/step - loss: 0.6281 - accuracy: 0.6401 - val_loss: 0.5916 - val_accuracy: 0.6995\n",
      "Epoch 5/25\n",
      "250/250 [==============================] - 75s 302ms/step - loss: 0.6292 - accuracy: 0.6445 - val_loss: 0.6131 - val_accuracy: 0.6545\n",
      "Epoch 6/25\n",
      "250/250 [==============================] - 67s 267ms/step - loss: 0.6085 - accuracy: 0.6626 - val_loss: 0.6127 - val_accuracy: 0.6495\n",
      "Epoch 7/25\n",
      "250/250 [==============================] - 74s 296ms/step - loss: 0.6009 - accuracy: 0.6680 - val_loss: 0.6404 - val_accuracy: 0.6455\n",
      "Epoch 8/25\n",
      "250/250 [==============================] - 69s 277ms/step - loss: 0.5905 - accuracy: 0.6817 - val_loss: 0.5756 - val_accuracy: 0.6920\n",
      "Epoch 9/25\n",
      "250/250 [==============================] - 69s 275ms/step - loss: 0.5854 - accuracy: 0.6831 - val_loss: 0.5501 - val_accuracy: 0.7170\n",
      "Epoch 10/25\n",
      "250/250 [==============================] - 67s 267ms/step - loss: 0.5748 - accuracy: 0.6961 - val_loss: 0.5885 - val_accuracy: 0.6840\n",
      "Epoch 11/25\n",
      "250/250 [==============================] - 67s 268ms/step - loss: 0.5740 - accuracy: 0.6950 - val_loss: 0.5312 - val_accuracy: 0.7400\n",
      "Epoch 12/25\n",
      "250/250 [==============================] - 71s 284ms/step - loss: 0.5686 - accuracy: 0.7050 - val_loss: 0.5763 - val_accuracy: 0.6955\n",
      "Epoch 13/25\n",
      "250/250 [==============================] - 72s 286ms/step - loss: 0.5608 - accuracy: 0.7010 - val_loss: 0.5402 - val_accuracy: 0.7270\n",
      "Epoch 14/25\n",
      "250/250 [==============================] - 65s 261ms/step - loss: 0.5572 - accuracy: 0.7054 - val_loss: 0.5702 - val_accuracy: 0.6995\n",
      "Epoch 15/25\n",
      "250/250 [==============================] - 65s 260ms/step - loss: 0.5555 - accuracy: 0.7153 - val_loss: 0.5520 - val_accuracy: 0.7170\n",
      "Epoch 16/25\n",
      "250/250 [==============================] - 66s 265ms/step - loss: 0.5564 - accuracy: 0.7072 - val_loss: 0.5458 - val_accuracy: 0.7215\n",
      "Epoch 17/25\n",
      "250/250 [==============================] - 66s 265ms/step - loss: 0.5436 - accuracy: 0.7156 - val_loss: 0.6460 - val_accuracy: 0.6710\n",
      "Epoch 18/25\n",
      "250/250 [==============================] - 68s 271ms/step - loss: 0.5443 - accuracy: 0.7185 - val_loss: 0.5518 - val_accuracy: 0.7220\n",
      "Epoch 19/25\n",
      "250/250 [==============================] - 66s 263ms/step - loss: 0.5295 - accuracy: 0.7335 - val_loss: 0.5406 - val_accuracy: 0.7245\n",
      "Epoch 20/25\n",
      "250/250 [==============================] - 65s 262ms/step - loss: 0.5335 - accuracy: 0.7243 - val_loss: 0.5230 - val_accuracy: 0.7385\n",
      "Epoch 21/25\n",
      "250/250 [==============================] - 67s 268ms/step - loss: 0.5330 - accuracy: 0.7285 - val_loss: 0.4880 - val_accuracy: 0.7645\n",
      "Epoch 22/25\n",
      "250/250 [==============================] - 67s 267ms/step - loss: 0.5267 - accuracy: 0.7344 - val_loss: 0.4820 - val_accuracy: 0.7705\n",
      "Epoch 23/25\n",
      "250/250 [==============================] - 73s 293ms/step - loss: 0.5189 - accuracy: 0.7452 - val_loss: 0.4876 - val_accuracy: 0.7600\n",
      "Epoch 24/25\n",
      "250/250 [==============================] - 59s 237ms/step - loss: 0.5187 - accuracy: 0.7379 - val_loss: 0.4981 - val_accuracy: 0.7630\n",
      "Epoch 25/25\n",
      "250/250 [==============================] - 72s 288ms/step - loss: 0.5193 - accuracy: 0.7411 - val_loss: 0.4818 - val_accuracy: 0.7675\n"
     ]
    },
    {
     "data": {
      "text/plain": [
       "<tensorflow.python.keras.callbacks.History at 0x2331b11b220>"
      ]
     },
     "execution_count": 12,
     "metadata": {},
     "output_type": "execute_result"
    }
   ],
   "source": [
    "#cnn.fit(X= train_generator, validation_data=validation_generator,epochs=25)\n",
    "cnn.fit(x= train_generator,validation_data=validation_generator, epochs=25)"
   ]
  },
  {
   "cell_type": "code",
   "execution_count": 36,
   "metadata": {},
   "outputs": [],
   "source": [
    "# Single prediction test\n",
    "from keras.preprocessing import image\n",
    "test_image = image.load_img(r\"D:\\Udemy\\Section+40+-+Convolutional+Neural+Networks+(CNN)\\Section 40 - Convolutional Neural Networks (CNN)\\dataset\\single_prediction\\cat_or_dog_4.JPG \",target_size=(64,64))\n",
    "test_image = image.img_to_array(test_image)\n",
    "test_image = np.expand_dims(test_image, axis = 0)\n",
    "result = cnn.predict(test_image)\n",
    "train_generator.class_indices\n",
    "if result[0][0] == 1:\n",
    "  prediction = 'dog'\n",
    "else:\n",
    "  prediction = 'cat'"
   ]
  },
  {
   "cell_type": "code",
   "execution_count": 37,
   "metadata": {},
   "outputs": [
    {
     "name": "stdout",
     "output_type": "stream",
     "text": [
      "dog\n"
     ]
    }
   ],
   "source": [
    "print (prediction)"
   ]
  },
  {
   "cell_type": "code",
   "execution_count": null,
   "metadata": {},
   "outputs": [],
   "source": []
  }
 ],
 "metadata": {
  "kernelspec": {
   "display_name": "Python 3",
   "language": "python",
   "name": "python3"
  },
  "language_info": {
   "codemirror_mode": {
    "name": "ipython",
    "version": 3
   },
   "file_extension": ".py",
   "mimetype": "text/x-python",
   "name": "python",
   "nbconvert_exporter": "python",
   "pygments_lexer": "ipython3",
   "version": "3.8.5"
  }
 },
 "nbformat": 4,
 "nbformat_minor": 4
}
