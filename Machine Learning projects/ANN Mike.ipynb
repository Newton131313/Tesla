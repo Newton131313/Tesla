{
 "cells": [
  {
   "cell_type": "code",
   "execution_count": 57,
   "metadata": {},
   "outputs": [],
   "source": [
    "import pandas as pd\n",
    "import numpy as np\n",
    "import tensorflow as tf"
   ]
  },
  {
   "cell_type": "code",
   "execution_count": 58,
   "metadata": {},
   "outputs": [],
   "source": [
    "df=pd.read_csv(r\"C:\\Users\\Tesla\\Desktop\\Machine Learning A-Z (Codes and Datasets)\\Part 8 - Deep Learning\\Section 39 - Artificial Neural Networks (ANN)\\Python\\Churn_Modelling.csv\")"
   ]
  },
  {
   "cell_type": "code",
   "execution_count": 59,
   "metadata": {},
   "outputs": [],
   "source": [
    "X=df.iloc[:,3:-1].values\n",
    "y=df.iloc[:,-1].values"
   ]
  },
  {
   "cell_type": "code",
   "execution_count": 60,
   "metadata": {},
   "outputs": [
    {
     "name": "stdout",
     "output_type": "stream",
     "text": [
      "[[619 'France' 'Female' ... 1 1 101348.88]\n",
      " [608 'Spain' 'Female' ... 0 1 112542.58]\n",
      " [502 'France' 'Female' ... 1 0 113931.57]\n",
      " ...\n",
      " [709 'France' 'Female' ... 0 1 42085.58]\n",
      " [772 'Germany' 'Male' ... 1 0 92888.52]\n",
      " [792 'France' 'Female' ... 1 0 38190.78]]\n"
     ]
    }
   ],
   "source": [
    "print(X)"
   ]
  },
  {
   "cell_type": "code",
   "execution_count": 61,
   "metadata": {},
   "outputs": [],
   "source": [
    "from sklearn.preprocessing import LabelEncoder\n",
    "le=LabelEncoder()\n",
    "X[:,2]=le.fit_transform(X[:,2])"
   ]
  },
  {
   "cell_type": "code",
   "execution_count": 62,
   "metadata": {},
   "outputs": [
    {
     "name": "stdout",
     "output_type": "stream",
     "text": [
      "[[619 'France' 0 42 2 0.0 1 1 1 101348.88]\n",
      " [608 'Spain' 0 41 1 83807.86 1 0 1 112542.58]\n",
      " [502 'France' 0 42 8 159660.8 3 1 0 113931.57]\n",
      " [699 'France' 0 39 1 0.0 2 0 0 93826.63]\n",
      " [850 'Spain' 0 43 2 125510.82 1 1 1 79084.1]\n",
      " [645 'Spain' 1 44 8 113755.78 2 1 0 149756.71]\n",
      " [822 'France' 1 50 7 0.0 2 1 1 10062.8]\n",
      " [376 'Germany' 0 29 4 115046.74 4 1 0 119346.88]\n",
      " [501 'France' 1 44 4 142051.07 2 0 1 74940.5]\n",
      " [684 'France' 1 27 2 134603.88 1 1 1 71725.73]]\n"
     ]
    }
   ],
   "source": [
    "print(X[:10,:])"
   ]
  },
  {
   "cell_type": "code",
   "execution_count": 63,
   "metadata": {},
   "outputs": [],
   "source": [
    "from sklearn.compose import ColumnTransformer\n",
    "from sklearn.preprocessing import OneHotEncoder\n",
    "ct=ColumnTransformer(transformers=[('encoder', OneHotEncoder(),[1])], remainder='passthrough')\n",
    "X=np.array(ct.fit_transform(X))"
   ]
  },
  {
   "cell_type": "code",
   "execution_count": 64,
   "metadata": {},
   "outputs": [],
   "source": [
    "from sklearn.model_selection import train_test_split\n",
    "X_train,X_test, y_train, y_test=train_test_split(X,y, test_size=0.3, random_state=0)"
   ]
  },
  {
   "cell_type": "code",
   "execution_count": 65,
   "metadata": {},
   "outputs": [],
   "source": [
    "from sklearn.preprocessing import StandardScaler\n",
    "sc=StandardScaler()\n",
    "X_train = sc.fit_transform(X_train)"
   ]
  },
  {
   "cell_type": "code",
   "execution_count": 66,
   "metadata": {},
   "outputs": [],
   "source": [
    "ann=tf.keras.models.Sequential()\n",
    "ann.add(tf.keras.layers.Dense(units=6, activation='relu'))\n",
    "ann.add(tf.keras.layers.Dense(units=6, activation='relu'))\n",
    "ann.add(tf.keras.layers.Dense(units=1, activation='sigmoid'))"
   ]
  },
  {
   "cell_type": "code",
   "execution_count": 67,
   "metadata": {},
   "outputs": [],
   "source": [
    "ann.compile(optimizer='adam', loss='binary_crossentropy', metrics=['accuracy'])"
   ]
  },
  {
   "cell_type": "code",
   "execution_count": 68,
   "metadata": {},
   "outputs": [
    {
     "name": "stdout",
     "output_type": "stream",
     "text": [
      "Epoch 1/100\n",
      "219/219 [==============================] - 0s 1ms/step - loss: 0.6435 - accuracy: 0.6874\n",
      "Epoch 2/100\n",
      "219/219 [==============================] - 0s 1ms/step - loss: 0.5156 - accuracy: 0.7983\n",
      "Epoch 3/100\n",
      "219/219 [==============================] - 0s 1ms/step - loss: 0.4563 - accuracy: 0.8067\n",
      "Epoch 4/100\n",
      "219/219 [==============================] - 0s 1ms/step - loss: 0.4274 - accuracy: 0.8129\n",
      "Epoch 5/100\n",
      "219/219 [==============================] - 0s 1ms/step - loss: 0.4162 - accuracy: 0.8180\n",
      "Epoch 6/100\n",
      "219/219 [==============================] - 0s 1ms/step - loss: 0.4103 - accuracy: 0.8216\n",
      "Epoch 7/100\n",
      "219/219 [==============================] - 0s 1ms/step - loss: 0.4068 - accuracy: 0.8237\n",
      "Epoch 8/100\n",
      "219/219 [==============================] - 0s 1ms/step - loss: 0.4038 - accuracy: 0.8249\n",
      "Epoch 9/100\n",
      "219/219 [==============================] - 0s 1ms/step - loss: 0.4012 - accuracy: 0.8264\n",
      "Epoch 10/100\n",
      "219/219 [==============================] - 0s 1ms/step - loss: 0.3990 - accuracy: 0.8269\n",
      "Epoch 11/100\n",
      "219/219 [==============================] - 0s 1ms/step - loss: 0.3969 - accuracy: 0.8267\n",
      "Epoch 12/100\n",
      "219/219 [==============================] - 0s 987us/step - loss: 0.3949 - accuracy: 0.8270\n",
      "Epoch 13/100\n",
      "219/219 [==============================] - 0s 1ms/step - loss: 0.3929 - accuracy: 0.8283\n",
      "Epoch 14/100\n",
      "219/219 [==============================] - 0s 1ms/step - loss: 0.3907 - accuracy: 0.8283\n",
      "Epoch 15/100\n",
      "219/219 [==============================] - 0s 1ms/step - loss: 0.3891 - accuracy: 0.8290\n",
      "Epoch 16/100\n",
      "219/219 [==============================] - 0s 1ms/step - loss: 0.3863 - accuracy: 0.8293\n",
      "Epoch 17/100\n",
      "219/219 [==============================] - 0s 2ms/step - loss: 0.3839 - accuracy: 0.8310\n",
      "Epoch 18/100\n",
      "219/219 [==============================] - 0s 2ms/step - loss: 0.3820 - accuracy: 0.8336\n",
      "Epoch 19/100\n",
      "219/219 [==============================] - 0s 1ms/step - loss: 0.3798 - accuracy: 0.8321\n",
      "Epoch 20/100\n",
      "219/219 [==============================] - 0s 1ms/step - loss: 0.3775 - accuracy: 0.8334\n",
      "Epoch 21/100\n",
      "219/219 [==============================] - 0s 2ms/step - loss: 0.3755 - accuracy: 0.8329\n",
      "Epoch 22/100\n",
      "219/219 [==============================] - 0s 1ms/step - loss: 0.3739 - accuracy: 0.8343\n",
      "Epoch 23/100\n",
      "219/219 [==============================] - 0s 1ms/step - loss: 0.3719 - accuracy: 0.8346\n",
      "Epoch 24/100\n",
      "219/219 [==============================] - 0s 1ms/step - loss: 0.3706 - accuracy: 0.8351\n",
      "Epoch 25/100\n",
      "219/219 [==============================] - 0s 1ms/step - loss: 0.3689 - accuracy: 0.8371\n",
      "Epoch 26/100\n",
      "219/219 [==============================] - 0s 987us/step - loss: 0.3676 - accuracy: 0.8390\n",
      "Epoch 27/100\n",
      "219/219 [==============================] - 0s 1ms/step - loss: 0.3663 - accuracy: 0.8394\n",
      "Epoch 28/100\n",
      "219/219 [==============================] - 0s 1ms/step - loss: 0.3651 - accuracy: 0.8469\n",
      "Epoch 29/100\n",
      "219/219 [==============================] - 0s 1ms/step - loss: 0.3633 - accuracy: 0.8454\n",
      "Epoch 30/100\n",
      "219/219 [==============================] - 0s 2ms/step - loss: 0.3625 - accuracy: 0.8479\n",
      "Epoch 31/100\n",
      "219/219 [==============================] - 0s 2ms/step - loss: 0.3615 - accuracy: 0.8486\n",
      "Epoch 32/100\n",
      "219/219 [==============================] - 0s 2ms/step - loss: 0.3603 - accuracy: 0.8517\n",
      "Epoch 33/100\n",
      "219/219 [==============================] - 0s 2ms/step - loss: 0.3592 - accuracy: 0.8501\n",
      "Epoch 34/100\n",
      "219/219 [==============================] - 0s 2ms/step - loss: 0.3583 - accuracy: 0.8536\n",
      "Epoch 35/100\n",
      "219/219 [==============================] - 0s 2ms/step - loss: 0.3567 - accuracy: 0.8517\n",
      "Epoch 36/100\n",
      "219/219 [==============================] - 0s 2ms/step - loss: 0.3561 - accuracy: 0.8529\n",
      "Epoch 37/100\n",
      "219/219 [==============================] - 0s 2ms/step - loss: 0.3552 - accuracy: 0.8541\n",
      "Epoch 38/100\n",
      "219/219 [==============================] - 0s 1ms/step - loss: 0.3544 - accuracy: 0.8536\n",
      "Epoch 39/100\n",
      "219/219 [==============================] - 0s 1ms/step - loss: 0.3533 - accuracy: 0.8566\n",
      "Epoch 40/100\n",
      "219/219 [==============================] - 0s 1ms/step - loss: 0.3524 - accuracy: 0.8550\n",
      "Epoch 41/100\n",
      "219/219 [==============================] - 0s 1ms/step - loss: 0.3510 - accuracy: 0.8570\n",
      "Epoch 42/100\n",
      "219/219 [==============================] - 0s 1ms/step - loss: 0.3510 - accuracy: 0.8557\n",
      "Epoch 43/100\n",
      "219/219 [==============================] - 0s 1ms/step - loss: 0.3502 - accuracy: 0.8567\n",
      "Epoch 44/100\n",
      "219/219 [==============================] - 0s 1ms/step - loss: 0.3498 - accuracy: 0.8570\n",
      "Epoch 45/100\n",
      "219/219 [==============================] - 0s 1ms/step - loss: 0.3486 - accuracy: 0.8586\n",
      "Epoch 46/100\n",
      "219/219 [==============================] - 0s 1ms/step - loss: 0.3482 - accuracy: 0.8600\n",
      "Epoch 47/100\n",
      "219/219 [==============================] - 0s 1ms/step - loss: 0.3479 - accuracy: 0.8580\n",
      "Epoch 48/100\n",
      "219/219 [==============================] - 0s 1ms/step - loss: 0.3471 - accuracy: 0.8604\n",
      "Epoch 49/100\n",
      "219/219 [==============================] - 0s 2ms/step - loss: 0.3461 - accuracy: 0.8609\n",
      "Epoch 50/100\n",
      "219/219 [==============================] - 0s 1ms/step - loss: 0.3457 - accuracy: 0.8584\n",
      "Epoch 51/100\n",
      "219/219 [==============================] - 0s 1ms/step - loss: 0.3452 - accuracy: 0.8593\n",
      "Epoch 52/100\n",
      "219/219 [==============================] - 0s 1ms/step - loss: 0.3441 - accuracy: 0.8606\n",
      "Epoch 53/100\n",
      "219/219 [==============================] - 0s 1ms/step - loss: 0.3437 - accuracy: 0.8591\n",
      "Epoch 54/100\n",
      "219/219 [==============================] - 0s 1ms/step - loss: 0.3436 - accuracy: 0.8604\n",
      "Epoch 55/100\n",
      "219/219 [==============================] - 0s 1ms/step - loss: 0.3426 - accuracy: 0.8610\n",
      "Epoch 56/100\n",
      "219/219 [==============================] - 0s 1ms/step - loss: 0.3422 - accuracy: 0.8606\n",
      "Epoch 57/100\n",
      "219/219 [==============================] - 0s 1ms/step - loss: 0.3416 - accuracy: 0.8600\n",
      "Epoch 58/100\n",
      "219/219 [==============================] - 0s 1ms/step - loss: 0.3416 - accuracy: 0.8606\n",
      "Epoch 59/100\n",
      "219/219 [==============================] - 0s 1ms/step - loss: 0.3407 - accuracy: 0.8610\n",
      "Epoch 60/100\n",
      "219/219 [==============================] - 0s 1ms/step - loss: 0.3407 - accuracy: 0.8601\n",
      "Epoch 61/100\n",
      "219/219 [==============================] - 0s 1ms/step - loss: 0.3412 - accuracy: 0.8613\n",
      "Epoch 62/100\n",
      "219/219 [==============================] - 0s 1ms/step - loss: 0.3401 - accuracy: 0.8617\n",
      "Epoch 63/100\n",
      "219/219 [==============================] - 0s 1ms/step - loss: 0.3400 - accuracy: 0.8621\n",
      "Epoch 64/100\n",
      "219/219 [==============================] - 0s 1ms/step - loss: 0.3407 - accuracy: 0.8610\n",
      "Epoch 65/100\n",
      "219/219 [==============================] - 0s 987us/step - loss: 0.3396 - accuracy: 0.8603\n",
      "Epoch 66/100\n",
      "219/219 [==============================] - 0s 987us/step - loss: 0.3395 - accuracy: 0.8619\n",
      "Epoch 67/100\n",
      "219/219 [==============================] - 0s 1ms/step - loss: 0.3396 - accuracy: 0.8609\n",
      "Epoch 68/100\n",
      "219/219 [==============================] - 0s 1ms/step - loss: 0.3392 - accuracy: 0.8634\n",
      "Epoch 69/100\n",
      "219/219 [==============================] - 0s 1ms/step - loss: 0.3387 - accuracy: 0.8621\n",
      "Epoch 70/100\n",
      "219/219 [==============================] - 0s 1ms/step - loss: 0.3382 - accuracy: 0.8659\n",
      "Epoch 71/100\n",
      "219/219 [==============================] - 0s 1ms/step - loss: 0.3387 - accuracy: 0.8627\n",
      "Epoch 72/100\n",
      "219/219 [==============================] - 0s 1ms/step - loss: 0.3383 - accuracy: 0.8610\n",
      "Epoch 73/100\n",
      "219/219 [==============================] - 0s 987us/step - loss: 0.3382 - accuracy: 0.8617\n",
      "Epoch 74/100\n",
      "219/219 [==============================] - 0s 1ms/step - loss: 0.3390 - accuracy: 0.8631\n",
      "Epoch 75/100\n",
      "219/219 [==============================] - 0s 987us/step - loss: 0.3383 - accuracy: 0.8637\n",
      "Epoch 76/100\n",
      "219/219 [==============================] - 0s 1ms/step - loss: 0.3378 - accuracy: 0.8623\n",
      "Epoch 77/100\n",
      "219/219 [==============================] - 0s 1ms/step - loss: 0.3376 - accuracy: 0.8613\n",
      "Epoch 78/100\n",
      "219/219 [==============================] - 0s 987us/step - loss: 0.3372 - accuracy: 0.8629\n",
      "Epoch 79/100\n",
      "219/219 [==============================] - 0s 987us/step - loss: 0.3379 - accuracy: 0.8613\n",
      "Epoch 80/100\n",
      "219/219 [==============================] - 0s 987us/step - loss: 0.3375 - accuracy: 0.8637\n",
      "Epoch 81/100\n",
      "219/219 [==============================] - 0s 987us/step - loss: 0.3377 - accuracy: 0.8611\n",
      "Epoch 82/100\n",
      "219/219 [==============================] - 0s 1ms/step - loss: 0.3371 - accuracy: 0.8636\n",
      "Epoch 83/100\n",
      "219/219 [==============================] - 0s 987us/step - loss: 0.3375 - accuracy: 0.8641\n",
      "Epoch 84/100\n",
      "219/219 [==============================] - 0s 987us/step - loss: 0.3374 - accuracy: 0.8633\n",
      "Epoch 85/100\n",
      "219/219 [==============================] - 0s 1ms/step - loss: 0.3372 - accuracy: 0.8636\n",
      "Epoch 86/100\n",
      "219/219 [==============================] - 0s 987us/step - loss: 0.3368 - accuracy: 0.8621\n",
      "Epoch 87/100\n",
      "219/219 [==============================] - 0s 1ms/step - loss: 0.3376 - accuracy: 0.8644\n",
      "Epoch 88/100\n",
      "219/219 [==============================] - 0s 1ms/step - loss: 0.3366 - accuracy: 0.8647\n",
      "Epoch 89/100\n",
      "219/219 [==============================] - 0s 987us/step - loss: 0.3368 - accuracy: 0.8627\n",
      "Epoch 90/100\n",
      "219/219 [==============================] - 0s 1ms/step - loss: 0.3372 - accuracy: 0.8613: 0s - loss: 0.3474 - accuracy: \n",
      "Epoch 91/100\n",
      "219/219 [==============================] - 0s 2ms/step - loss: 0.3366 - accuracy: 0.8614\n",
      "Epoch 92/100\n",
      "219/219 [==============================] - 0s 1ms/step - loss: 0.3365 - accuracy: 0.8614\n",
      "Epoch 93/100\n",
      "219/219 [==============================] - 0s 1ms/step - loss: 0.3366 - accuracy: 0.8661\n",
      "Epoch 94/100\n",
      "219/219 [==============================] - 0s 1ms/step - loss: 0.3371 - accuracy: 0.8620\n",
      "Epoch 95/100\n",
      "219/219 [==============================] - 0s 1ms/step - loss: 0.3363 - accuracy: 0.8631\n",
      "Epoch 96/100\n",
      "219/219 [==============================] - 0s 1ms/step - loss: 0.3367 - accuracy: 0.8641\n",
      "Epoch 97/100\n",
      "219/219 [==============================] - 0s 1ms/step - loss: 0.3360 - accuracy: 0.8620\n",
      "Epoch 98/100\n",
      "219/219 [==============================] - 0s 1ms/step - loss: 0.3360 - accuracy: 0.8629\n",
      "Epoch 99/100\n",
      "219/219 [==============================] - 0s 1ms/step - loss: 0.3373 - accuracy: 0.8631\n",
      "Epoch 100/100\n",
      "219/219 [==============================] - 0s 987us/step - loss: 0.3361 - accuracy: 0.8626\n"
     ]
    },
    {
     "data": {
      "text/plain": [
       "<tensorflow.python.keras.callbacks.History at 0x22413105730>"
      ]
     },
     "execution_count": 68,
     "metadata": {},
     "output_type": "execute_result"
    }
   ],
   "source": [
    "ann.fit(X_train, y_train, batch_size=32, epochs=100)"
   ]
  },
  {
   "cell_type": "code",
   "execution_count": 90,
   "metadata": {},
   "outputs": [],
   "source": [
    "y_pred=(ann.predict(sc.transform(X_test))>0.5)"
   ]
  },
  {
   "cell_type": "code",
   "execution_count": 91,
   "metadata": {},
   "outputs": [
    {
     "name": "stdout",
     "output_type": "stream",
     "text": [
      "[[False]\n",
      " [False]\n",
      " [False]\n",
      " ...\n",
      " [False]\n",
      " [False]\n",
      " [ True]]\n"
     ]
    }
   ],
   "source": [
    " print(y_pred)"
   ]
  },
  {
   "cell_type": "code",
   "execution_count": 87,
   "metadata": {},
   "outputs": [
    {
     "data": {
      "text/plain": [
       "array([[False]])"
      ]
     },
     "execution_count": 87,
     "metadata": {},
     "output_type": "execute_result"
    }
   ],
   "source": [
    "(ann.predict(sc.transform([[1,0,0,600,1,40,3,60000,2,1,1,50000]]))>0.5)"
   ]
  },
  {
   "cell_type": "code",
   "execution_count": 92,
   "metadata": {},
   "outputs": [
    {
     "name": "stdout",
     "output_type": "stream",
     "text": [
      "[[2275  104]\n",
      " [ 327  294]]\n"
     ]
    },
    {
     "data": {
      "text/plain": [
       "0.8563333333333333"
      ]
     },
     "execution_count": 92,
     "metadata": {},
     "output_type": "execute_result"
    }
   ],
   "source": [
    "from sklearn.metrics import accuracy_score, confusion_matrix\n",
    "cm=confusion_matrix(y_test,y_pred)\n",
    "print (cm)\n",
    "accuracy_score(y_test,y_pred)"
   ]
  },
  {
   "cell_type": "code",
   "execution_count": null,
   "metadata": {},
   "outputs": [],
   "source": []
  }
 ],
 "metadata": {
  "kernelspec": {
   "display_name": "Python 3",
   "language": "python",
   "name": "python3"
  },
  "language_info": {
   "codemirror_mode": {
    "name": "ipython",
    "version": 3
   },
   "file_extension": ".py",
   "mimetype": "text/x-python",
   "name": "python",
   "nbconvert_exporter": "python",
   "pygments_lexer": "ipython3",
   "version": "3.8.5"
  }
 },
 "nbformat": 4,
 "nbformat_minor": 4
}
